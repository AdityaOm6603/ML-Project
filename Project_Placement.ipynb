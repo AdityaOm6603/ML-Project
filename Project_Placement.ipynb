{
 "cells": [
  {
   "cell_type": "code",
   "execution_count": 15,
   "id": "ea0f3433-ceae-4e58-9207-368d00de7b5e",
   "metadata": {},
   "outputs": [
    {
     "name": "stdout",
     "output_type": "stream",
     "text": [
      "First few rows of the dataframe:\n"
     ]
    },
    {
     "name": "stderr",
     "output_type": "stream",
     "text": [
      "<>:5: SyntaxWarning: invalid escape sequence '\\s'\n",
      "<>:5: SyntaxWarning: invalid escape sequence '\\s'\n",
      "C:\\Users\\server\\AppData\\Local\\Temp\\ipykernel_19408\\743882595.py:5: SyntaxWarning: invalid escape sequence '\\s'\n",
      "  df = pd.read_csv(\"housing.csv\", sep='\\s+', names=column_names)\n"
     ]
    },
    {
     "data": {
      "text/html": [
       "<div>\n",
       "<style scoped>\n",
       "    .dataframe tbody tr th:only-of-type {\n",
       "        vertical-align: middle;\n",
       "    }\n",
       "\n",
       "    .dataframe tbody tr th {\n",
       "        vertical-align: top;\n",
       "    }\n",
       "\n",
       "    .dataframe thead th {\n",
       "        text-align: right;\n",
       "    }\n",
       "</style>\n",
       "<table border=\"1\" class=\"dataframe\">\n",
       "  <thead>\n",
       "    <tr style=\"text-align: right;\">\n",
       "      <th></th>\n",
       "      <th>CRIM</th>\n",
       "      <th>ZN</th>\n",
       "      <th>INDUS</th>\n",
       "      <th>CHAS</th>\n",
       "      <th>NOX</th>\n",
       "      <th>RM</th>\n",
       "      <th>AGE</th>\n",
       "      <th>DIS</th>\n",
       "      <th>RAD</th>\n",
       "      <th>TAX</th>\n",
       "      <th>PTRATIO</th>\n",
       "      <th>B</th>\n",
       "      <th>LSTAT</th>\n",
       "      <th>MEDV</th>\n",
       "    </tr>\n",
       "  </thead>\n",
       "  <tbody>\n",
       "    <tr>\n",
       "      <th>0</th>\n",
       "      <td>0.00632</td>\n",
       "      <td>18.0</td>\n",
       "      <td>2.31</td>\n",
       "      <td>0</td>\n",
       "      <td>0.538</td>\n",
       "      <td>6.575</td>\n",
       "      <td>65.2</td>\n",
       "      <td>4.0900</td>\n",
       "      <td>1</td>\n",
       "      <td>296.0</td>\n",
       "      <td>15.3</td>\n",
       "      <td>396.90</td>\n",
       "      <td>4.98</td>\n",
       "      <td>24.0</td>\n",
       "    </tr>\n",
       "    <tr>\n",
       "      <th>1</th>\n",
       "      <td>0.02731</td>\n",
       "      <td>0.0</td>\n",
       "      <td>7.07</td>\n",
       "      <td>0</td>\n",
       "      <td>0.469</td>\n",
       "      <td>6.421</td>\n",
       "      <td>78.9</td>\n",
       "      <td>4.9671</td>\n",
       "      <td>2</td>\n",
       "      <td>242.0</td>\n",
       "      <td>17.8</td>\n",
       "      <td>396.90</td>\n",
       "      <td>9.14</td>\n",
       "      <td>21.6</td>\n",
       "    </tr>\n",
       "    <tr>\n",
       "      <th>2</th>\n",
       "      <td>0.02729</td>\n",
       "      <td>0.0</td>\n",
       "      <td>7.07</td>\n",
       "      <td>0</td>\n",
       "      <td>0.469</td>\n",
       "      <td>7.185</td>\n",
       "      <td>61.1</td>\n",
       "      <td>4.9671</td>\n",
       "      <td>2</td>\n",
       "      <td>242.0</td>\n",
       "      <td>17.8</td>\n",
       "      <td>392.83</td>\n",
       "      <td>4.03</td>\n",
       "      <td>34.7</td>\n",
       "    </tr>\n",
       "    <tr>\n",
       "      <th>3</th>\n",
       "      <td>0.03237</td>\n",
       "      <td>0.0</td>\n",
       "      <td>2.18</td>\n",
       "      <td>0</td>\n",
       "      <td>0.458</td>\n",
       "      <td>6.998</td>\n",
       "      <td>45.8</td>\n",
       "      <td>6.0622</td>\n",
       "      <td>3</td>\n",
       "      <td>222.0</td>\n",
       "      <td>18.7</td>\n",
       "      <td>394.63</td>\n",
       "      <td>2.94</td>\n",
       "      <td>33.4</td>\n",
       "    </tr>\n",
       "    <tr>\n",
       "      <th>4</th>\n",
       "      <td>0.06905</td>\n",
       "      <td>0.0</td>\n",
       "      <td>2.18</td>\n",
       "      <td>0</td>\n",
       "      <td>0.458</td>\n",
       "      <td>7.147</td>\n",
       "      <td>54.2</td>\n",
       "      <td>6.0622</td>\n",
       "      <td>3</td>\n",
       "      <td>222.0</td>\n",
       "      <td>18.7</td>\n",
       "      <td>396.90</td>\n",
       "      <td>5.33</td>\n",
       "      <td>36.2</td>\n",
       "    </tr>\n",
       "  </tbody>\n",
       "</table>\n",
       "</div>"
      ],
      "text/plain": [
       "      CRIM    ZN  INDUS  CHAS    NOX     RM   AGE     DIS  RAD    TAX  \\\n",
       "0  0.00632  18.0   2.31     0  0.538  6.575  65.2  4.0900    1  296.0   \n",
       "1  0.02731   0.0   7.07     0  0.469  6.421  78.9  4.9671    2  242.0   \n",
       "2  0.02729   0.0   7.07     0  0.469  7.185  61.1  4.9671    2  242.0   \n",
       "3  0.03237   0.0   2.18     0  0.458  6.998  45.8  6.0622    3  222.0   \n",
       "4  0.06905   0.0   2.18     0  0.458  7.147  54.2  6.0622    3  222.0   \n",
       "\n",
       "   PTRATIO       B  LSTAT  MEDV  \n",
       "0     15.3  396.90   4.98  24.0  \n",
       "1     17.8  396.90   9.14  21.6  \n",
       "2     17.8  392.83   4.03  34.7  \n",
       "3     18.7  394.63   2.94  33.4  \n",
       "4     18.7  396.90   5.33  36.2  "
      ]
     },
     "execution_count": 15,
     "metadata": {},
     "output_type": "execute_result"
    }
   ],
   "source": [
    "import pandas as pd\n",
    "\n",
    "# Load the dataset with column names using whitespace as delimiter\n",
    "column_names = [\"CRIM\", \"ZN\", \"INDUS\", \"CHAS\", \"NOX\", \"RM\", \"AGE\", \"DIS\", \"RAD\", \"TAX\", \"PTRATIO\", \"B\", \"LSTAT\", \"MEDV\"]\n",
    "df = pd.read_csv(\"housing.csv\", sep='\\s+', names=column_names)\n",
    "\n",
    "# Display the first few rows of the dataframe\n",
    "print(\"First few rows of the dataframe:\")\n",
    "df.head()\n"
   ]
  },
  {
   "cell_type": "markdown",
   "id": "0c2449d4-405f-4968-8a63-6731662f2057",
   "metadata": {},
   "source": [
    "#### Observation:\n",
    "##### ->There is significant variation in socio-economic indicators across different areas, such as crime rates, property tax rates, and median home values.\n",
    "##### ->Housing characteristics (e.g., number of rooms, age of buildings) also vary, reflecting diverse types of residential areas.\n",
    "##### ->Environmental factors like nitric oxide concentration and distance to employment centers show differences in the living conditions and connectivity of the neighborhoods."
   ]
  },
  {
   "cell_type": "markdown",
   "id": "45d946ae-57e5-4946-8d3e-ecb9d112b9b9",
   "metadata": {},
   "source": [
    "### Missing value and its treatment"
   ]
  },
  {
   "cell_type": "code",
   "execution_count": 16,
   "id": "c47c0811-7fee-4b24-bb56-6da60ca9e9a5",
   "metadata": {},
   "outputs": [
    {
     "name": "stdout",
     "output_type": "stream",
     "text": [
      "\n",
      "Missing values in each column (including zeros):\n",
      "CRIM       0\n",
      "ZN         0\n",
      "INDUS      0\n",
      "CHAS       0\n",
      "NOX        0\n",
      "RM         0\n",
      "AGE        0\n",
      "DIS        0\n",
      "RAD        0\n",
      "TAX        0\n",
      "PTRATIO    0\n",
      "B          0\n",
      "LSTAT      0\n",
      "MEDV       0\n",
      "dtype: int64\n"
     ]
    }
   ],
   "source": [
    "# Identify missing values\n",
    "missing_values = df.isnull().sum()\n",
    "print(\"\\nMissing values in each column (including zeros):\")\n",
    "print(missing_values)"
   ]
  },
  {
   "cell_type": "markdown",
   "id": "98428aa6-d785-4550-9a54-01c9988b16ee",
   "metadata": {},
   "source": [
    "#### Since here there are no missing values no need to treat it"
   ]
  },
  {
   "cell_type": "markdown",
   "id": "cdf2480f-710e-4b03-b838-b846174846c5",
   "metadata": {},
   "source": [
    "### Check for normal distribution using Anderson Darling Test"
   ]
  },
  {
   "cell_type": "code",
   "execution_count": 18,
   "id": "2f95a3a5-3111-4a10-9109-d47e1cf4a6b9",
   "metadata": {},
   "outputs": [
    {
     "name": "stdout",
     "output_type": "stream",
     "text": [
      "Anderson-Darling Test for CRIM:\n",
      "Statistic: 86.76289903052646\n",
      "At 15.0% significance level, the data does not look normal (statistic 86.76289903052646 >= critical value 0.572).\n",
      "At 10.0% significance level, the data does not look normal (statistic 86.76289903052646 >= critical value 0.651).\n",
      "At 5.0% significance level, the data does not look normal (statistic 86.76289903052646 >= critical value 0.781).\n",
      "At 2.5% significance level, the data does not look normal (statistic 86.76289903052646 >= critical value 0.911).\n",
      "At 1.0% significance level, the data does not look normal (statistic 86.76289903052646 >= critical value 1.084).\n",
      "\n",
      "Anderson-Darling Test for ZN:\n",
      "Statistic: 98.1823442217052\n",
      "At 15.0% significance level, the data does not look normal (statistic 98.1823442217052 >= critical value 0.572).\n",
      "At 10.0% significance level, the data does not look normal (statistic 98.1823442217052 >= critical value 0.651).\n",
      "At 5.0% significance level, the data does not look normal (statistic 98.1823442217052 >= critical value 0.781).\n",
      "At 2.5% significance level, the data does not look normal (statistic 98.1823442217052 >= critical value 0.911).\n",
      "At 1.0% significance level, the data does not look normal (statistic 98.1823442217052 >= critical value 1.084).\n",
      "\n",
      "Anderson-Darling Test for INDUS:\n",
      "Statistic: 22.133888840794157\n",
      "At 15.0% significance level, the data does not look normal (statistic 22.133888840794157 >= critical value 0.572).\n",
      "At 10.0% significance level, the data does not look normal (statistic 22.133888840794157 >= critical value 0.651).\n",
      "At 5.0% significance level, the data does not look normal (statistic 22.133888840794157 >= critical value 0.781).\n",
      "At 2.5% significance level, the data does not look normal (statistic 22.133888840794157 >= critical value 0.911).\n",
      "At 1.0% significance level, the data does not look normal (statistic 22.133888840794157 >= critical value 1.084).\n",
      "\n",
      "Anderson-Darling Test for CHAS:\n",
      "Statistic: 176.7414271023706\n",
      "At 15.0% significance level, the data does not look normal (statistic 176.7414271023706 >= critical value 0.572).\n",
      "At 10.0% significance level, the data does not look normal (statistic 176.7414271023706 >= critical value 0.651).\n",
      "At 5.0% significance level, the data does not look normal (statistic 176.7414271023706 >= critical value 0.781).\n",
      "At 2.5% significance level, the data does not look normal (statistic 176.7414271023706 >= critical value 0.911).\n",
      "At 1.0% significance level, the data does not look normal (statistic 176.7414271023706 >= critical value 1.084).\n",
      "\n",
      "Anderson-Darling Test for NOX:\n",
      "Statistic: 8.338415238240032\n",
      "At 15.0% significance level, the data does not look normal (statistic 8.338415238240032 >= critical value 0.572).\n",
      "At 10.0% significance level, the data does not look normal (statistic 8.338415238240032 >= critical value 0.651).\n",
      "At 5.0% significance level, the data does not look normal (statistic 8.338415238240032 >= critical value 0.781).\n",
      "At 2.5% significance level, the data does not look normal (statistic 8.338415238240032 >= critical value 0.911).\n",
      "At 1.0% significance level, the data does not look normal (statistic 8.338415238240032 >= critical value 1.084).\n",
      "\n",
      "Anderson-Darling Test for RM:\n",
      "Statistic: 6.1177220513370685\n",
      "At 15.0% significance level, the data does not look normal (statistic 6.1177220513370685 >= critical value 0.572).\n",
      "At 10.0% significance level, the data does not look normal (statistic 6.1177220513370685 >= critical value 0.651).\n",
      "At 5.0% significance level, the data does not look normal (statistic 6.1177220513370685 >= critical value 0.781).\n",
      "At 2.5% significance level, the data does not look normal (statistic 6.1177220513370685 >= critical value 0.911).\n",
      "At 1.0% significance level, the data does not look normal (statistic 6.1177220513370685 >= critical value 1.084).\n",
      "\n",
      "Anderson-Darling Test for AGE:\n",
      "Statistic: 18.790055766763885\n",
      "At 15.0% significance level, the data does not look normal (statistic 18.790055766763885 >= critical value 0.572).\n",
      "At 10.0% significance level, the data does not look normal (statistic 18.790055766763885 >= critical value 0.651).\n",
      "At 5.0% significance level, the data does not look normal (statistic 18.790055766763885 >= critical value 0.781).\n",
      "At 2.5% significance level, the data does not look normal (statistic 18.790055766763885 >= critical value 0.911).\n",
      "At 1.0% significance level, the data does not look normal (statistic 18.790055766763885 >= critical value 1.084).\n",
      "\n",
      "Anderson-Darling Test for DIS:\n",
      "Statistic: 15.058854686178734\n",
      "At 15.0% significance level, the data does not look normal (statistic 15.058854686178734 >= critical value 0.572).\n",
      "At 10.0% significance level, the data does not look normal (statistic 15.058854686178734 >= critical value 0.651).\n",
      "At 5.0% significance level, the data does not look normal (statistic 15.058854686178734 >= critical value 0.781).\n",
      "At 2.5% significance level, the data does not look normal (statistic 15.058854686178734 >= critical value 0.911).\n",
      "At 1.0% significance level, the data does not look normal (statistic 15.058854686178734 >= critical value 1.084).\n",
      "\n",
      "Anderson-Darling Test for RAD:\n",
      "Statistic: 77.57443645498745\n",
      "At 15.0% significance level, the data does not look normal (statistic 77.57443645498745 >= critical value 0.572).\n",
      "At 10.0% significance level, the data does not look normal (statistic 77.57443645498745 >= critical value 0.651).\n",
      "At 5.0% significance level, the data does not look normal (statistic 77.57443645498745 >= critical value 0.781).\n",
      "At 2.5% significance level, the data does not look normal (statistic 77.57443645498745 >= critical value 0.911).\n",
      "At 1.0% significance level, the data does not look normal (statistic 77.57443645498745 >= critical value 1.084).\n",
      "\n",
      "Anderson-Darling Test for TAX:\n",
      "Statistic: 39.35099795217616\n",
      "At 15.0% significance level, the data does not look normal (statistic 39.35099795217616 >= critical value 0.572).\n",
      "At 10.0% significance level, the data does not look normal (statistic 39.35099795217616 >= critical value 0.651).\n",
      "At 5.0% significance level, the data does not look normal (statistic 39.35099795217616 >= critical value 0.781).\n",
      "At 2.5% significance level, the data does not look normal (statistic 39.35099795217616 >= critical value 0.911).\n",
      "At 1.0% significance level, the data does not look normal (statistic 39.35099795217616 >= critical value 1.084).\n",
      "\n",
      "Anderson-Darling Test for PTRATIO:\n",
      "Statistic: 17.41073121428417\n",
      "At 15.0% significance level, the data does not look normal (statistic 17.41073121428417 >= critical value 0.572).\n",
      "At 10.0% significance level, the data does not look normal (statistic 17.41073121428417 >= critical value 0.651).\n",
      "At 5.0% significance level, the data does not look normal (statistic 17.41073121428417 >= critical value 0.781).\n",
      "At 2.5% significance level, the data does not look normal (statistic 17.41073121428417 >= critical value 0.911).\n",
      "At 1.0% significance level, the data does not look normal (statistic 17.41073121428417 >= critical value 1.084).\n",
      "\n",
      "Anderson-Darling Test for B:\n",
      "Statistic: 109.28781799445778\n",
      "At 15.0% significance level, the data does not look normal (statistic 109.28781799445778 >= critical value 0.572).\n",
      "At 10.0% significance level, the data does not look normal (statistic 109.28781799445778 >= critical value 0.651).\n",
      "At 5.0% significance level, the data does not look normal (statistic 109.28781799445778 >= critical value 0.781).\n",
      "At 2.5% significance level, the data does not look normal (statistic 109.28781799445778 >= critical value 0.911).\n",
      "At 1.0% significance level, the data does not look normal (statistic 109.28781799445778 >= critical value 1.084).\n",
      "\n",
      "Anderson-Darling Test for LSTAT:\n",
      "Statistic: 7.916345330346189\n",
      "At 15.0% significance level, the data does not look normal (statistic 7.916345330346189 >= critical value 0.572).\n",
      "At 10.0% significance level, the data does not look normal (statistic 7.916345330346189 >= critical value 0.651).\n",
      "At 5.0% significance level, the data does not look normal (statistic 7.916345330346189 >= critical value 0.781).\n",
      "At 2.5% significance level, the data does not look normal (statistic 7.916345330346189 >= critical value 0.911).\n",
      "At 1.0% significance level, the data does not look normal (statistic 7.916345330346189 >= critical value 1.084).\n",
      "\n",
      "Anderson-Darling Test for MEDV:\n",
      "Statistic: 11.822483502722662\n",
      "At 15.0% significance level, the data does not look normal (statistic 11.822483502722662 >= critical value 0.572).\n",
      "At 10.0% significance level, the data does not look normal (statistic 11.822483502722662 >= critical value 0.651).\n",
      "At 5.0% significance level, the data does not look normal (statistic 11.822483502722662 >= critical value 0.781).\n",
      "At 2.5% significance level, the data does not look normal (statistic 11.822483502722662 >= critical value 0.911).\n",
      "At 1.0% significance level, the data does not look normal (statistic 11.822483502722662 >= critical value 1.084).\n",
      "\n"
     ]
    }
   ],
   "source": [
    "import scipy.stats as stats\n",
    "\n",
    "# Function to perform Anderson-Darling Test\n",
    "def anderson_darling_test(data, column):\n",
    "    result = stats.anderson(data[column], dist='norm')\n",
    "    print(f'Anderson-Darling Test for {column}:')\n",
    "    print(f'Statistic: {result.statistic}')\n",
    "    for i in range(len(result.critical_values)):\n",
    "        sl, cv = result.significance_level[i], result.critical_values[i]\n",
    "        if result.statistic < cv:\n",
    "            print(f'At {sl}% significance level, the data looks normal (statistic {result.statistic} < critical value {cv}).')\n",
    "        else:\n",
    "            print(f'At {sl}% significance level, the data does not look normal (statistic {result.statistic} >= critical value {cv}).')\n",
    "    print()\n",
    "\n",
    "# List of numerical columns\n",
    "numerical_cols = df.select_dtypes(include=['number']).columns.tolist()\n",
    "\n",
    "# Perform the Anderson-Darling test for each numerical column\n",
    "for column in numerical_cols:\n",
    "    anderson_darling_test(df, column)"
   ]
  },
  {
   "cell_type": "markdown",
   "id": "de5a3763-1a77-4904-a4a6-1ca757e1eba6",
   "metadata": {},
   "source": [
    "#### What is Anderson-Darling Test\n",
    "##### ->The Anderson-Darling test is a statistical test used to determine if a given sample of data comes from a specific distribution, most commonly the normal distribution. It is an extension of the Kolmogorov-Smirnov test and provides a more sensitive measure of how well the data follows the hypothesized distribution.\n",
    "##### ->Purpose: To test the null hypothesis that a sample comes from a specified distribution, such as the normal distribution.\n",
    "##### ->Test Statistic: It calculates a test statistic that measures the distance between the empirical distribution of the sample data and the cumulative distribution function (CDF) of the specified distribution.\n",
    "#### Since the Dataset is not Normally Distributed, therefore we should use IQR instead of Z-score and DBSCAN for outlier detection"
   ]
  },
  {
   "cell_type": "markdown",
   "id": "32332460-c923-4745-ba7f-bfeeb47f6e10",
   "metadata": {},
   "source": [
    "### The Dataset is not normally distributed "
   ]
  },
  {
   "cell_type": "markdown",
   "id": "c14d0b1a-3e1d-4add-be08-1e659c8ab2f2",
   "metadata": {},
   "source": [
    "### Outlier Detecion using Z-Score"
   ]
  },
  {
   "cell_type": "code",
   "execution_count": 23,
   "id": "5a266c94-9efc-497c-a7b6-0065dd98d6d9",
   "metadata": {},
   "outputs": [
    {
     "name": "stdout",
     "output_type": "stream",
     "text": [
      "\n",
      "Total number of global outliers detected (using Z-score): 91\n",
      "\n",
      "Rows with outliers:\n",
      "        CRIM     ZN  INDUS  CHAS    NOX     RM    AGE     DIS  RAD    TAX  \\\n",
      "55   0.01311   90.0   1.22     0  0.403  7.249   21.9  8.6966    5  226.0   \n",
      "56   0.02055   85.0   0.74     0  0.410  6.383   35.7  9.1876    2  313.0   \n",
      "57   0.01432  100.0   1.32     0  0.411  6.816   40.5  8.3248    5  256.0   \n",
      "102  0.22876    0.0   8.56     0  0.520  6.405   85.4  2.7147    5  384.0   \n",
      "141  1.62864    0.0  21.89     0  0.624  5.019  100.0  1.4394    4  437.0   \n",
      "..       ...    ...    ...   ...    ...    ...    ...     ...  ...    ...   \n",
      "454  9.51363    0.0  18.10     0  0.713  6.728   94.1  2.4961   24  666.0   \n",
      "455  4.75237    0.0  18.10     0  0.713  6.525   86.5  2.4358   24  666.0   \n",
      "456  4.66883    0.0  18.10     0  0.713  5.976   87.9  2.5806   24  666.0   \n",
      "457  8.20058    0.0  18.10     0  0.713  5.936   80.3  2.7792   24  666.0   \n",
      "466  3.77498    0.0  18.10     0  0.655  5.952   84.7  2.8715   24  666.0   \n",
      "\n",
      "     PTRATIO       B  LSTAT  MEDV  \n",
      "55      17.9  395.93   4.81  35.4  \n",
      "56      17.3  396.90   5.77  24.7  \n",
      "57      15.1  392.90   3.95  31.6  \n",
      "102     20.9   70.80  10.63  18.6  \n",
      "141     21.2  396.90  34.41  14.4  \n",
      "..       ...     ...    ...   ...  \n",
      "454     20.2    6.68  18.71  14.9  \n",
      "455     20.2   50.92  18.13  14.1  \n",
      "456     20.2   10.48  19.01  12.7  \n",
      "457     20.2    3.50  16.94  13.5  \n",
      "466     20.2   22.01  17.15  19.0  \n",
      "\n",
      "[91 rows x 14 columns]\n"
     ]
    }
   ],
   "source": [
    "# List of numerical columns\n",
    "numerical_cols = df.select_dtypes(include=['number']).columns.tolist()\n",
    "\n",
    "# Function to detect outliers using Z-score\n",
    "def detect_outliers_z_score(data, columns, threshold=3):\n",
    "    outlier_indices = set()\n",
    "    \n",
    "    for column in columns:\n",
    "        # Calculate Z-scores\n",
    "        z_scores = np.abs(stats.zscore(data[column], nan_policy='omit'))\n",
    "        # Identify outliers\n",
    "        column_outliers = data[z_scores > threshold]\n",
    "        outlier_indices.update(column_outliers.index)\n",
    "    \n",
    "    return list(outlier_indices)\n",
    "\n",
    "# Detect global outliers using Z-score\n",
    "global_outliers_z_score = detect_outliers_z_score(df, numerical_cols)\n",
    "\n",
    "# Display the number of global outliers and the outlier rows\n",
    "print(f\"\\nTotal number of global outliers detected (using Z-score): {len(global_outliers_z_score)}\")\n",
    "print(\"\\nRows with outliers:\")\n",
    "print(df.loc[global_outliers_z_score])"
   ]
  },
  {
   "cell_type": "code",
   "execution_count": 24,
   "id": "6adc3ca5-b1d9-4577-b6ef-6290d985ce28",
   "metadata": {},
   "outputs": [
    {
     "name": "stdout",
     "output_type": "stream",
     "text": [
      "\n",
      "Number of rows remaining after dropping outliers: 415\n"
     ]
    }
   ],
   "source": [
    "# Drop the rows with outliers\n",
    "df_cleaned = df.drop(index=global_outliers_z_score)\n",
    "\n",
    "# Display the number of rows remaining after dropping outliers\n",
    "print(f\"\\nNumber of rows remaining after dropping outliers: {df_cleaned.shape[0]}\")"
   ]
  },
  {
   "cell_type": "markdown",
   "id": "4587e404-3e51-45d9-86e7-1c9e02054014",
   "metadata": {},
   "source": [
    "#### Why we should do outlier detection?\n",
    "##### ->Enhances Data Quality: Reduces noise and inaccuracies, resulting in cleaner and more reliable data.\n",
    "##### ->Ensures Accurate Scaling: Prevents outliers from skewing feature scaling, leading to more effective data preprocessing.\n",
    "##### ->Validates Statistical Tests: Maintains the validity of statistical assumptions and analyses.\n",
    "##### ->Prevents Overfitting: Reduces the risk of models fitting to outliers, improving generalization to new data.\n",
    "##### ->Stabilizes Training: Helps algorithms converge more reliably and produce stable results.\n",
    "##### ->Clarifies Visualization: Provides clearer insights by avoiding distortion in data visualizations."
   ]
  },
  {
   "cell_type": "markdown",
   "id": "2bba6f7a-101e-4066-bd2a-7b2ea2e1636b",
   "metadata": {},
   "source": [
    "### Performing feature scaling and normalisation"
   ]
  },
  {
   "cell_type": "code",
   "execution_count": 28,
   "id": "0f231cf6-e73f-4666-98e7-28e2a512c486",
   "metadata": {},
   "outputs": [
    {
     "name": "stdout",
     "output_type": "stream",
     "text": [
      "\n",
      "Features after scaling (standardization):\n",
      "       CRIM        ZN     INDUS  CHAS       NOX        RM       AGE       DIS  \\\n",
      "0 -0.500097  0.427278 -1.254663   0.0 -0.083120  0.503296 -0.077906  0.120954   \n",
      "1 -0.495805 -0.488581 -0.553675   0.0 -0.708718  0.251194  0.410713  0.567909   \n",
      "2 -0.495810 -0.488581 -0.553675   0.0 -0.708718  1.501880 -0.224135  0.567909   \n",
      "3 -0.494771 -0.488581 -1.273808   0.0 -0.808451  1.195757 -0.769819  1.125951   \n",
      "4 -0.487272 -0.488581 -1.273808   0.0 -0.808451  1.439673 -0.470228  1.125951   \n",
      "\n",
      "        RAD       TAX   PTRATIO         B     LSTAT  \n",
      "0 -0.938612 -0.607776 -1.483794  0.439914 -1.128221  \n",
      "1 -0.816465 -0.943176 -0.312853  0.439914 -0.484935  \n",
      "2 -0.816465 -0.943176 -0.312853  0.360916 -1.275125  \n",
      "3 -0.694319 -1.067398  0.108686  0.395854 -1.443679  \n",
      "4 -0.694319 -1.067398  0.108686  0.439914 -1.074098  \n",
      "\n",
      "Features after normalization:\n",
      "       CRIM     ZN     INDUS  CHAS       NOX        RM       AGE       DIS  \\\n",
      "0  0.000000  0.225  0.067815   0.0  0.314815  0.556059  0.641607  0.362674   \n",
      "1  0.000733  0.000  0.242302   0.0  0.172840  0.517259  0.782698  0.471579   \n",
      "2  0.000732  0.000  0.242302   0.0  0.172840  0.709751  0.599382  0.471579   \n",
      "3  0.000909  0.000  0.063050   0.0  0.150206  0.662635  0.441813  0.607552   \n",
      "4  0.002190  0.000  0.063050   0.0  0.150206  0.700176  0.528321  0.607552   \n",
      "\n",
      "        RAD       TAX   PTRATIO         B     LSTAT  \n",
      "0  0.000000  0.206501  0.313953  1.000000  0.107403  \n",
      "1  0.043478  0.103250  0.604651  1.000000  0.244878  \n",
      "2  0.043478  0.103250  0.604651  0.987015  0.076008  \n",
      "3  0.086957  0.065010  0.709302  0.992758  0.039987  \n",
      "4  0.086957  0.065010  0.709302  1.000000  0.118969  \n"
     ]
    }
   ],
   "source": [
    "import numpy as np\n",
    "from sklearn.preprocessing import StandardScaler, MinMaxScaler\n",
    "# Separate features and target\n",
    "features = df_cleaned[numerical_cols].drop(columns='MEDV')\n",
    "target = df_cleaned['MEDV']\n",
    "\n",
    "# Feature Scaling (Standardization)\n",
    "scaler = StandardScaler()\n",
    "features_scaled = pd.DataFrame(scaler.fit_transform(features), columns=features.columns)\n",
    "\n",
    "# Normalization\n",
    "normalizer = MinMaxScaler()\n",
    "features_normalized = pd.DataFrame(normalizer.fit_transform(features), columns=features.columns)\n",
    "\n",
    "# Display results\n",
    "print(\"\\nFeatures after scaling (standardization):\")\n",
    "print(features_scaled.head())\n",
    "print(\"\\nFeatures after normalization:\")\n",
    "print(features_normalized.head())"
   ]
  },
  {
   "cell_type": "markdown",
   "id": "664918d8-7328-46ba-af85-fa8b96f7d5f4",
   "metadata": {},
   "source": [
    "#### Feature scaling and normalization help in making the model more efficient, stable, and accurate by ensuring all features are on a comparable scale."
   ]
  },
  {
   "cell_type": "markdown",
   "id": "80b50136-a846-455c-899a-f3a5240287b4",
   "metadata": {},
   "source": [
    "### Split the data into training and testing sets.\n"
   ]
  },
  {
   "cell_type": "markdown",
   "id": "f1fd39cf-2eb2-4e22-a3ea-19d3f55a9e2d",
   "metadata": {},
   "source": [
    "## 1.Ridge Regression"
   ]
  },
  {
   "cell_type": "code",
   "execution_count": 47,
   "id": "455245ac-066a-4ee2-a54a-33af9b1efccf",
   "metadata": {},
   "outputs": [
    {
     "name": "stdout",
     "output_type": "stream",
     "text": [
      "Mean Absolute Error: 3.4664376728576776\n",
      "Mean Squared Error: 27.18254287458571\n",
      "R-squared: 0.6326597790742673\n",
      "Adjusted R-squared: 0.5634507519433322\n"
     ]
    }
   ],
   "source": [
    "from sklearn.metrics import mean_absolute_error\n",
    "\n",
    "# Initialize the Ridge Regression model\n",
    "ridge_reg = Ridge(alpha=1.0)  # You can adjust the alpha parameter\n",
    "\n",
    "# Fit the model on the training data\n",
    "ridge_reg.fit(X_train, y_train)\n",
    "\n",
    "# Make predictions on the test data\n",
    "y_pred = ridge_reg.predict(X_test)\n",
    "\n",
    "# Evaluate the model\n",
    "mae = mean_absolute_error(y_test, y_pred)\n",
    "mse = mean_squared_error(y_test, y_pred)\n",
    "r2 = r2_score(y_test, y_pred)\n",
    "\n",
    "# Calculate Adjusted R-squared\n",
    "n = X_test.shape[0]  # Number of observations\n",
    "p = X_test.shape[1]  # Number of predictors\n",
    "r2_adj = 1 - ((1 - r2) * (n - 1) / (n - p - 1))\n",
    "\n",
    "print(f\"Mean Absolute Error: {mae}\")\n",
    "print(f\"Mean Squared Error: {mse}\")\n",
    "print(f\"R-squared: {r2}\")\n",
    "print(f\"Adjusted R-squared: {r2_adj}\")\n"
   ]
  },
  {
   "cell_type": "markdown",
   "id": "1d1a2b68-0bb7-46f3-8138-3b7e31f484bb",
   "metadata": {},
   "source": [
    "#### Obsservation:\n",
    "#### Mean Absolute Error (MAE): 3.47\n",
    "##### ->This value represents the average magnitude of the errors in predictions, with each error being the absolute difference between the predicted and actual housing prices. An MAE of 3.47 indicates that, on average, the model’s predictions deviate from the actual values by approximately $3,470.\n",
    "#### Mean Squared Error (MSE): 27.18\n",
    "##### ->MSE measures the average of the squared differences between predicted and actual values. It penalizes larger errors more than MAE, which helps in understanding the variance in prediction errors. An MSE of 27.18 indicates that the average squared deviation of the predicted housing prices from the actual values is 27.18 (in thousands of dollars squared).\n",
    "#### R-squared (R²): 0.63\n",
    "##### ->R-squared indicates the proportion of the variance in the dependent variable (housing prices) that is predictable from the independent variables. An R² of 0.63 suggests that approximately 63% of the variability in housing prices is explained by the features included in the model. This indicates a moderate to good fit of the model to the data.\n",
    "#### Adjusted R-squared: 0.56\n",
    "##### ->Adjusted R-squared adjusts the R-squared value for the number of predictors in the model. It provides a more accurate measure when comparing models with different numbers of predictors. An Adjusted R-squared of 0.56 suggests that, after adjusting for the number of features, the model still explains about 56% of the variance in housing prices. This indicates that the model retains a good explanatory power even after accounting for the complexity of the model."
   ]
  },
  {
   "cell_type": "markdown",
   "id": "cd4e9190-15f1-4444-a36b-b2f9fe4d4db7",
   "metadata": {},
   "source": [
    "### Model Evaluation"
   ]
  },
  {
   "cell_type": "markdown",
   "id": "eb3a527c-5765-4ca0-9ac1-191b26eeee4d",
   "metadata": {},
   "source": [
    "### Visualise the model's performance using plots (e.g., actual vs. predicted prices).\n"
   ]
  },
  {
   "cell_type": "markdown",
   "id": "c3386e27-43e5-4df2-804b-71684d5917e8",
   "metadata": {},
   "source": [
    "### Scatter Plot of Actual vs. Predicted Values"
   ]
  },
  {
   "cell_type": "code",
   "execution_count": 41,
   "id": "ab7c7a90-e7c3-4f37-a848-85246337ac8b",
   "metadata": {},
   "outputs": [
    {
     "data": {
      "image/png": "[encoded data removed]",
      "text/plain": [
       "<Figure size 1200x600 with 1 Axes>"
      ]
     },
     "metadata": {},
     "output_type": "display_data"
    }
   ],
   "source": [
    "import matplotlib.pyplot as plt\n",
    "import seaborn as sns\n",
    "\n",
    "# Scatter plot of Actual vs. Predicted values\n",
    "plt.figure(figsize=(12, 6))\n",
    "\n",
    "# Plotting\n",
    "sns.scatterplot(x=y_test, y=y_pred, alpha=0.6)\n",
    "plt.plot([y_test.min(), y_test.max()], [y_test.min(), y_test.max()], 'r--', lw=2)\n",
    "plt.xlabel('Actual Values')\n",
    "plt.ylabel('Predicted Values')\n",
    "plt.title('Actual vs. Predicted Values')\n",
    "plt.show()\n"
   ]
  },
  {
   "cell_type": "markdown",
   "id": "bd7ed3dc-34ab-4d2e-853b-013f7d2a98c7",
   "metadata": {},
   "source": [
    "#### Observation\n",
    "#### Plot Description:\n",
    "##### ->Axes: The x-axis represents the actual values, and the y-axis represents the predicted values.\n",
    "##### ->Data Points: Each point on the plot represents a pair of actual and predicted values.\n",
    "##### ->Line of Best Fit: A red dashed line representing the ideal scenario where predicted values exactly match the actual values (i.e., the line y=x).\n",
    "#### Analysis:\n",
    "##### ->Distribution: The points are scattered around the line of best fit, indicating a certain level of correlation between actual and predicted values.\n",
    "##### ->Trend: The general trend shows that as the actual values increase, the predicted values also tend to increase, which is a good sign.\n",
    "##### ->Deviation: There is some deviation from the ideal line, especially noticeable for higher actual values. This suggests that the model might be less accurate for higher values.\n",
    "#### Interpretation:\n",
    "##### ->Good Fit: The scatter plot suggests that the model has a reasonable fit, with many points close to the line of best fit.\n",
    "#### Errors: Points that are far from the line indicate larger prediction errors. These outliers could be due to noise in the data or limitations in the model's ability to capture the underlying patterns.\n",
    "##### ->Improvement: To improve the model, you might consider further feature engineering, trying different algorithms, or tuning hyperparameters to reduce the prediction errors."
   ]
  },
  {
   "cell_type": "markdown",
   "id": "8cd70b3e-bef6-4fd9-ae92-0731fe3cd043",
   "metadata": {},
   "source": [
    "### Residual Plot"
   ]
  },
  {
   "cell_type": "code",
   "execution_count": 43,
   "id": "f5292c3d-3ed0-4cf6-a65b-89049060006d",
   "metadata": {},
   "outputs": [
    {
     "data": {
      "image/png": "[encoded data removed]",
      "text/plain": [
       "<Figure size 1200x600 with 1 Axes>"
      ]
     },
     "metadata": {},
     "output_type": "display_data"
    }
   ],
   "source": [
    "# Calculate residuals\n",
    "residuals = y_test - y_pred\n",
    "\n",
    "# Residual plot\n",
    "plt.figure(figsize=(12, 6))\n",
    "\n",
    "# Plotting\n",
    "sns.scatterplot(x=y_pred, y=residuals, alpha=0.6)\n",
    "plt.axhline(y=0, color='r', linestyle='--', lw=2)\n",
    "plt.xlabel('Predicted Values')\n",
    "plt.ylabel('Residuals')\n",
    "plt.title('Residuals vs. Predicted Values')\n",
    "plt.show()\n"
   ]
  },
  {
   "cell_type": "markdown",
   "id": "fe149c74-f220-4b31-9f32-22630dc12382",
   "metadata": {},
   "source": [
    "#### Observation\n",
    "#### Plot Description:\n",
    "##### ->Axes: The x-axis represents the predicted values, and the y-axis represents the residuals (the difference between actual and predicted values).\n",
    "##### ->Data Points: Each point on the plot represents the residual for a corresponding predicted value.\n",
    "##### ->Reference Line: A red dashed horizontal line at y = 0 represents where residuals would be if predictions were perfect.\n",
    "#### Analysis:\n",
    "##### ->Distribution: The residuals are scattered around the reference line, indicating the errors in the predictions.\n",
    "##### ->Homoscedasticity: Ideally, residuals should be randomly dispersed around the horizontal axis (red dashed line). This plot seems to show some random dispersion, but there are clusters and a potential pattern, indicating some heteroscedasticity (unequal variance).\n",
    "##### ->Outliers: There are some points significantly above or below the horizontal line, indicating large prediction errors for those data points.\n",
    "#### Interpretation:\n",
    "##### ->Good Fit: If residuals are randomly scattered and centered around zero, it indicates a good fit. In this plot, while many residuals are close to zero, there is noticeable dispersion.\n",
    "##### ->Errors: Larger residuals, particularly the ones significantly above or below the horizontal line, highlight predictions that are less accurate.\n",
    "##### ->Patterns: Any visible pattern in the residual plot (such as a funnel shape or curvature) suggests that the model is not capturing some aspect of the data. Here, there's a slight indication of such patterns, which might suggest room for model improvement."
   ]
  },
  {
   "cell_type": "markdown",
   "id": "67b011a1-148f-452a-b921-f978b344c9c1",
   "metadata": {},
   "source": [
    "### Interpret the model's coefficients and understand the impact of different features on housing prices.\n"
   ]
  },
  {
   "cell_type": "code",
   "execution_count": 45,
   "id": "dd89d90d-fa09-4bb4-ba59-c0c2caf7b5f6",
   "metadata": {},
   "outputs": [
    {
     "name": "stdout",
     "output_type": "stream",
     "text": [
      "Ridge Regression Coefficients:\n",
      "    Feature  Coefficient\n",
      "5        RM     2.871971\n",
      "8       RAD     1.956047\n",
      "2     INDUS     0.285184\n",
      "11        B     0.260278\n",
      "1        ZN     0.044539\n",
      "3      CHAS     0.000000\n",
      "6       AGE    -0.419157\n",
      "4       NOX    -1.110478\n",
      "0      CRIM    -1.176459\n",
      "9       TAX    -1.710841\n",
      "7       DIS    -2.033113\n",
      "10  PTRATIO    -2.135237\n",
      "12    LSTAT    -2.979145\n"
     ]
    },
    {
     "name": "stderr",
     "output_type": "stream",
     "text": [
      "C:\\Users\\server\\AppData\\Local\\Temp\\ipykernel_19408\\1070123858.py:22: FutureWarning: \n",
      "\n",
      "Passing `palette` without assigning `hue` is deprecated and will be removed in v0.14.0. Assign the `y` variable to `hue` and set `legend=False` for the same effect.\n",
      "\n",
      "  sns.barplot(x='Coefficient', y='Feature', data=coef_df, palette='viridis')\n"
     ]
    },
    {
     "data": {
      "image/png": "[encoded data removed]",
      "text/plain": [
       "<Figure size 1200x600 with 1 Axes>"
      ]
     },
     "metadata": {},
     "output_type": "display_data"
    }
   ],
   "source": [
    "import numpy as np\n",
    "import pandas as pd\n",
    "import matplotlib.pyplot as plt\n",
    "import seaborn as sns\n",
    "\n",
    "# Get coefficients and feature names\n",
    "coefficients = ridge_reg.coef_\n",
    "features = X_train.columns\n",
    "\n",
    "# Create a DataFrame for easier visualization\n",
    "coef_df = pd.DataFrame({\n",
    "    'Feature': features,\n",
    "    'Coefficient': coefficients\n",
    "}).sort_values(by='Coefficient', ascending=False)\n",
    "\n",
    "# Print coefficients\n",
    "print(\"Ridge Regression Coefficients:\")\n",
    "print(coef_df)\n",
    "\n",
    "# Plot coefficients\n",
    "plt.figure(figsize=(12, 6))\n",
    "sns.barplot(x='Coefficient', y='Feature', data=coef_df, palette='viridis')\n",
    "plt.title('Ridge Regression Feature Coefficients')\n",
    "plt.xlabel('Coefficient Value')\n",
    "plt.ylabel('Feature')\n",
    "plt.show()\n"
   ]
  },
  {
   "cell_type": "markdown",
   "id": "2ad9d5d6-a2da-48c3-8815-a4ef54066a87",
   "metadata": {},
   "source": [
    "#### Explanation\n",
    "#### Extracting Coefficients:\n",
    "##### ->ridge_reg.coef_ gives the coefficients from the Ridge Regression model.\n",
    "##### ->X_train.columns provides the feature names.\n",
    "#### Creating a DataFrame:\n",
    "##### ->A DataFrame coef_df is created to hold feature names and their corresponding coefficients.\n",
    "#### Printing Coefficients:\n",
    "##### ->Displaying the DataFrame helps in seeing the relationships between features and the target variable.\n",
    "#### Plotting Coefficients:\n",
    "##### ->A horizontal bar plot visualizes the coefficients, which helps in comparing the impact of different features."
   ]
  },
  {
   "cell_type": "markdown",
   "id": "3e5bccbd-5d22-4b05-8e69-0267f6adcecc",
   "metadata": {},
   "source": [
    "#### Observation\n",
    "#### Analysis:\n",
    "##### ->Positive Coefficients: Features with positive coefficients contribute positively to the predicted outcome. The features with the highest positive coefficients are RM (number of rooms per dwelling) and RAD (index of accessibility to radial highways).\n",
    "##### ->Negative Coefficients: Features with negative coefficients contribute negatively to the predicted outcome. The feature with the highest negative coefficient is LSTAT (percentage of lower status of the population).\n",
    "##### ->Magnitude: The magnitude of the coefficients indicates the strength of the contribution of each feature. Larger absolute values indicate stronger influence on the prediction. RM has the largest positive influence, while LSTAT has the largest negative influence.\n",
    "#### Interpretation:\n",
    "##### ->Feature Importance: The most influential features in the model are RM, RAD, and LSTAT. These features have the largest coefficients and thus the most significant impact on the predictions.\n",
    "##### ->Direction of Influence: Positive coefficients (e.g., RM) suggest that higher values of these features are associated with higher predicted outcomes. Negative coefficients (e.g., LSTAT) suggest that higher values of these features are associated with lower predicted outcomes.\n",
    "##### ->Model Insights: The Ridge Regression model places significant weight on features related to the number of rooms and the socioeconomic status of the population, indicating that these factors are crucial in the prediction task.\n"
   ]
  },
  {
   "cell_type": "code",
   "execution_count": null,
   "id": "d4b74396-bcdf-4b28-b702-d4389ca96e61",
   "metadata": {},
   "outputs": [],
   "source": []
  }
 ],
 "metadata": {
  "kernelspec": {
   "display_name": "Python 3 (ipykernel)",
   "language": "python",
   "name": "python3"
  },
  "language_info": {
   "codemirror_mode": {
    "name": "ipython",
    "version": 3
   },
   "file_extension": ".py",
   "mimetype": "text/x-python",
   "name": "python",
   "nbconvert_exporter": "python",
   "pygments_lexer": "ipython3",
   "version": "3.12.4"
  }
 },
 "nbformat": 4,
 "nbformat_minor": 5
}
